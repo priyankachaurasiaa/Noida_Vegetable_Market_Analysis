{
 "cells": [
  {
   "cell_type": "code",
   "execution_count": 2,
   "id": "819f92ee",
   "metadata": {},
   "outputs": [],
   "source": [
    "from selenium import webdriver\n",
    "from selenium.webdriver.common.by import By\n",
    "\n",
    "import pandas as pd\n",
    "import numpy as np"
   ]
  },
  {
   "cell_type": "code",
   "execution_count": 3,
   "id": "3214142c",
   "metadata": {},
   "outputs": [
    {
     "name": "stderr",
     "output_type": "stream",
     "text": [
      "C:\\Users\\Dipanjan\\AppData\\Local\\Temp/ipykernel_8916/242329989.py:1: DeprecationWarning: executable_path has been deprecated, please pass in a Service object\n",
      "  drive=webdriver.Chrome(\"chromedriver.exe\")\n"
     ]
    }
   ],
   "source": [
    "drive=webdriver.Chrome(\"chromedriver.exe\")"
   ]
  },
  {
   "cell_type": "code",
   "execution_count": 5,
   "id": "0de95a6d",
   "metadata": {},
   "outputs": [],
   "source": [
    "link=\"https://www.glassdoor.co.in/Reviews/index.htm\"\n",
    "drive.get(link)\n",
    "drive.implicitly_wait(10)"
   ]
  },
  {
   "cell_type": "code",
   "execution_count": 6,
   "id": "c28b5c32",
   "metadata": {},
   "outputs": [],
   "source": [
    "x=drive.find_elements(By.CLASS_NAME,\"mb-xsm\")"
   ]
  },
  {
   "cell_type": "code",
   "execution_count": 7,
   "id": "59301012",
   "metadata": {},
   "outputs": [
    {
     "data": {
      "text/plain": [
       "[<selenium.webdriver.remote.webelement.WebElement (session=\"0c7974cd57705589625d9cb57c951e61\", element=\"f932b468-072b-4ba1-bd34-a2db91a7fb2b\")>,\n",
       " <selenium.webdriver.remote.webelement.WebElement (session=\"0c7974cd57705589625d9cb57c951e61\", element=\"ca341816-bf0b-4d13-9833-7ed5400c3bed\")>,\n",
       " <selenium.webdriver.remote.webelement.WebElement (session=\"0c7974cd57705589625d9cb57c951e61\", element=\"0b72bfd6-6f96-4389-884e-fea8b3b567ce\")>,\n",
       " <selenium.webdriver.remote.webelement.WebElement (session=\"0c7974cd57705589625d9cb57c951e61\", element=\"2a4728a5-b2df-43b2-aa9d-d050703684f3\")>,\n",
       " <selenium.webdriver.remote.webelement.WebElement (session=\"0c7974cd57705589625d9cb57c951e61\", element=\"d037be80-8e49-4f66-a8b4-da2771ae1f0f\")>,\n",
       " <selenium.webdriver.remote.webelement.WebElement (session=\"0c7974cd57705589625d9cb57c951e61\", element=\"5793c32c-ead6-4520-a4fe-e4a4ffda05d3\")>,\n",
       " <selenium.webdriver.remote.webelement.WebElement (session=\"0c7974cd57705589625d9cb57c951e61\", element=\"e59e2c15-5bfc-4892-af85-5e434ec08ed9\")>,\n",
       " <selenium.webdriver.remote.webelement.WebElement (session=\"0c7974cd57705589625d9cb57c951e61\", element=\"30bfa321-c56e-407a-a2c4-3adfb2acaa03\")>,\n",
       " <selenium.webdriver.remote.webelement.WebElement (session=\"0c7974cd57705589625d9cb57c951e61\", element=\"6d0ad626-f78a-44bb-88a1-5b0564994bd7\")>,\n",
       " <selenium.webdriver.remote.webelement.WebElement (session=\"0c7974cd57705589625d9cb57c951e61\", element=\"30001363-24de-4c4e-b290-161f2b72ae0f\")>,\n",
       " <selenium.webdriver.remote.webelement.WebElement (session=\"0c7974cd57705589625d9cb57c951e61\", element=\"3485caa9-6725-41c9-bbb3-87b01295b5f8\")>]"
      ]
     },
     "execution_count": 7,
     "metadata": {},
     "output_type": "execute_result"
    }
   ],
   "source": [
    "x"
   ]
  },
  {
   "cell_type": "code",
   "execution_count": 8,
   "id": "bb49a7d4",
   "metadata": {},
   "outputs": [
    {
     "data": {
      "text/plain": [
       "['Filter by \"3.5 Star Rating and up\", \"Overall Rating\"',\n",
       " 'Tata Consultancy Services\\n3.9\\n★',\n",
       " 'Accenture\\n4.1\\n★',\n",
       " 'Amazon\\n4.2\\n★',\n",
       " 'Cognizant Technology Solutions\\n3.9\\n★',\n",
       " 'Deloitte\\n4.1\\n★',\n",
       " 'IBM\\n4.2\\n★',\n",
       " 'Capgemini\\n4.0\\n★',\n",
       " 'Wipro\\n3.8\\n★',\n",
       " 'EY\\n3.9\\n★',\n",
       " 'HCLTech\\n3.7\\n★']"
      ]
     },
     "execution_count": 8,
     "metadata": {},
     "output_type": "execute_result"
    }
   ],
   "source": [
    "company=[]\n",
    "\n",
    "for i in x:\n",
    "    company.append(i.text)\n",
    "    \n",
    "company"
   ]
  },
  {
   "cell_type": "code",
   "execution_count": 10,
   "id": "949c08c2",
   "metadata": {},
   "outputs": [
    {
     "data": {
      "text/plain": [
       "[['Tata Consultancy Services', '3.9', '★'],\n",
       " ['Accenture', '4.1', '★'],\n",
       " ['Amazon', '4.2', '★'],\n",
       " ['Cognizant Technology Solutions', '3.9', '★'],\n",
       " ['Deloitte', '4.1', '★'],\n",
       " ['IBM', '4.2', '★'],\n",
       " ['Capgemini', '4.0', '★'],\n",
       " ['Wipro', '3.8', '★'],\n",
       " ['EY', '3.9', '★'],\n",
       " ['HCLTech', '3.7', '★']]"
      ]
     },
     "execution_count": 10,
     "metadata": {},
     "output_type": "execute_result"
    }
   ],
   "source": [
    "l=[]\n",
    "\n",
    "for i in company[1:]:\n",
    "    l.append(i.split(\"\\n\"))\n",
    "    \n",
    "l\n",
    "    "
   ]
  },
  {
   "cell_type": "code",
   "execution_count": 15,
   "id": "2396c11f",
   "metadata": {},
   "outputs": [],
   "source": [
    "df=pd.DataFrame(l)"
   ]
  },
  {
   "cell_type": "code",
   "execution_count": 16,
   "id": "f0d04a38",
   "metadata": {},
   "outputs": [
    {
     "data": {
      "text/html": [
       "<div>\n",
       "<style scoped>\n",
       "    .dataframe tbody tr th:only-of-type {\n",
       "        vertical-align: middle;\n",
       "    }\n",
       "\n",
       "    .dataframe tbody tr th {\n",
       "        vertical-align: top;\n",
       "    }\n",
       "\n",
       "    .dataframe thead th {\n",
       "        text-align: right;\n",
       "    }\n",
       "</style>\n",
       "<table border=\"1\" class=\"dataframe\">\n",
       "  <thead>\n",
       "    <tr style=\"text-align: right;\">\n",
       "      <th></th>\n",
       "      <th>0</th>\n",
       "      <th>1</th>\n",
       "      <th>2</th>\n",
       "    </tr>\n",
       "  </thead>\n",
       "  <tbody>\n",
       "    <tr>\n",
       "      <th>0</th>\n",
       "      <td>Tata Consultancy Services</td>\n",
       "      <td>3.9</td>\n",
       "      <td>★</td>\n",
       "    </tr>\n",
       "    <tr>\n",
       "      <th>1</th>\n",
       "      <td>Accenture</td>\n",
       "      <td>4.1</td>\n",
       "      <td>★</td>\n",
       "    </tr>\n",
       "    <tr>\n",
       "      <th>2</th>\n",
       "      <td>Amazon</td>\n",
       "      <td>4.2</td>\n",
       "      <td>★</td>\n",
       "    </tr>\n",
       "    <tr>\n",
       "      <th>3</th>\n",
       "      <td>Cognizant Technology Solutions</td>\n",
       "      <td>3.9</td>\n",
       "      <td>★</td>\n",
       "    </tr>\n",
       "    <tr>\n",
       "      <th>4</th>\n",
       "      <td>Deloitte</td>\n",
       "      <td>4.1</td>\n",
       "      <td>★</td>\n",
       "    </tr>\n",
       "    <tr>\n",
       "      <th>5</th>\n",
       "      <td>IBM</td>\n",
       "      <td>4.2</td>\n",
       "      <td>★</td>\n",
       "    </tr>\n",
       "    <tr>\n",
       "      <th>6</th>\n",
       "      <td>Capgemini</td>\n",
       "      <td>4.0</td>\n",
       "      <td>★</td>\n",
       "    </tr>\n",
       "    <tr>\n",
       "      <th>7</th>\n",
       "      <td>Wipro</td>\n",
       "      <td>3.8</td>\n",
       "      <td>★</td>\n",
       "    </tr>\n",
       "    <tr>\n",
       "      <th>8</th>\n",
       "      <td>EY</td>\n",
       "      <td>3.9</td>\n",
       "      <td>★</td>\n",
       "    </tr>\n",
       "    <tr>\n",
       "      <th>9</th>\n",
       "      <td>HCLTech</td>\n",
       "      <td>3.7</td>\n",
       "      <td>★</td>\n",
       "    </tr>\n",
       "  </tbody>\n",
       "</table>\n",
       "</div>"
      ],
      "text/plain": [
       "                                0    1  2\n",
       "0       Tata Consultancy Services  3.9  ★\n",
       "1                       Accenture  4.1  ★\n",
       "2                          Amazon  4.2  ★\n",
       "3  Cognizant Technology Solutions  3.9  ★\n",
       "4                        Deloitte  4.1  ★\n",
       "5                             IBM  4.2  ★\n",
       "6                       Capgemini  4.0  ★\n",
       "7                           Wipro  3.8  ★\n",
       "8                              EY  3.9  ★\n",
       "9                         HCLTech  3.7  ★"
      ]
     },
     "execution_count": 16,
     "metadata": {},
     "output_type": "execute_result"
    }
   ],
   "source": []
  },
  {
   "cell_type": "code",
   "execution_count": null,
   "id": "bb82ed62",
   "metadata": {},
   "outputs": [],
   "source": []
  },
  {
   "cell_type": "code",
   "execution_count": null,
   "id": "9c94f071",
   "metadata": {},
   "outputs": [],
   "source": []
  },
  {
   "cell_type": "code",
   "execution_count": 17,
   "id": "640e6090",
   "metadata": {},
   "outputs": [
    {
     "name": "stderr",
     "output_type": "stream",
     "text": [
      "C:\\Users\\Dipanjan\\AppData\\Local\\Temp/ipykernel_8916/178760130.py:14: DeprecationWarning: executable_path has been deprecated, please pass in a Service object\n",
      "  driver = webdriver.Chrome(executable_path='chromedriver.exe')\n"
     ]
    }
   ],
   "source": [
    "import pandas as pd\n",
    "import time\n",
    "from selenium import webdriver\n",
    "from selenium.webdriver.common.keys import Keys\n",
    "from selenium.webdriver.common.by import By\n",
    "from selenium.webdriver.chrome.service import Service\n",
    "start = time.time()\n",
    "\n",
    "\n",
    "\n",
    "service = Service('chromedriver.exe')\n",
    "\n",
    "\n",
    "driver = webdriver.Chrome(executable_path='chromedriver.exe')"
   ]
  },
  {
   "cell_type": "code",
   "execution_count": 18,
   "id": "514570ee",
   "metadata": {},
   "outputs": [],
   "source": [
    "link = 'https://www.brunel.net/en/jobs'\n",
    "\n",
    "# It will open the website on new chrome window\n",
    "driver.get(link)\n"
   ]
  },
  {
   "cell_type": "code",
   "execution_count": 19,
   "id": "466af10c",
   "metadata": {},
   "outputs": [],
   "source": [
    "# Click \"Reject All\" on the cookies banner\n",
    "driver.find_element(By.XPATH, '//*[@id=\"onetrust-accept-btn-handler\"]').click()"
   ]
  },
  {
   "cell_type": "code",
   "execution_count": 20,
   "id": "5a15f9ba",
   "metadata": {},
   "outputs": [],
   "source": [
    "# Find the search box and send the search query\n",
    "\n",
    "search_box = driver.find_element(By.XPATH, '//*[@id=\"search-keywords\"]')\n",
    "#print(\"Enter which Job Role looking for:\")\n",
    "#search_box.send_keys(str(input()))"
   ]
  },
  {
   "cell_type": "code",
   "execution_count": 21,
   "id": "c9cf7394",
   "metadata": {},
   "outputs": [],
   "source": [
    "search_box.send_keys('Data Analyst')"
   ]
  },
  {
   "cell_type": "code",
   "execution_count": 22,
   "id": "a18349a7",
   "metadata": {},
   "outputs": [],
   "source": [
    "search_box.send_keys(Keys.ENTER)"
   ]
  },
  {
   "cell_type": "code",
   "execution_count": 23,
   "id": "72194c55",
   "metadata": {},
   "outputs": [],
   "source": [
    "Job_list = []\n",
    "\n",
    "\n",
    "for page in range(5):\n",
    "    data = driver.find_elements(By.CLASS_NAME, 'card.search-results-card')\n",
    "    \n",
    "    \n",
    "    \n",
    "    for datas in data:\n",
    "        Job_role = datas.find_element(By.XPATH,'.//h3/a').text\n",
    "        Location = datas.find_element(By.XPATH,'.//dl/div[1]/dd').text\n",
    "        Industry = datas.find_element(By.XPATH,'.//dl/div[2]/dd').text\n",
    "        Expertise = datas.find_element(By.XPATH,'.//dl/div[3]/dd').text\n",
    "        Experience = datas.find_element(By.XPATH,'.//dl/div[4]/dd').text\n",
    "        Description = datas.find_element(By.XPATH,'.//p').text\n",
    "        link = datas.find_element(By.XPATH, './/a[@class=\"search-results-card__link link link--primary\"]')\n",
    "        link_url = link.get_attribute('href')\n",
    "        \n",
    "        \n",
    "        \n",
    "        job_details = {'Job_role':Job_role,'Location':Location,'Industry':Industry,'Expertise':Expertise,\n",
    "                       'Experience':Experience,'Description':Description,'Apply_Link':link_url}\n",
    "        \n",
    "        Job_list.append(job_details)"
   ]
  },
  {
   "cell_type": "code",
   "execution_count": 24,
   "id": "808ecefb",
   "metadata": {},
   "outputs": [
    {
     "name": "stdout",
     "output_type": "stream",
     "text": [
      "                                        Job_role                    Location  \\\n",
      "0                              Financial Analyst  Baton Rouge, United States   \n",
      "1                                Pricing Analyst             Calgary, Canada   \n",
      "2                  Business Intelligence Analyst            Perth, Australia   \n",
      "3                      Business System Analyst I                Saudi Arabia   \n",
      "4                    Lead Data Analytics Auditor                Saudi Arabia   \n",
      "5                         Master Data Specialist            Perth, Australia   \n",
      "6                          Data Analysis Advisor                       India   \n",
      "7                    Strategy and Market Analyst                Saudi Arabia   \n",
      "8                        Business System Analyst                Saudi Arabia   \n",
      "9        Market Research & Data analytic Advisor                       India   \n",
      "10  Materials Modeling & Data Science Specialist                Saudi Arabia   \n",
      "11                             Financial Analyst        United Arab Emirates   \n",
      "12                             Financial Analyst  Baton Rouge, United States   \n",
      "13                               Pricing Analyst             Calgary, Canada   \n",
      "14                 Business Intelligence Analyst            Perth, Australia   \n",
      "15                     Business System Analyst I                Saudi Arabia   \n",
      "16                   Lead Data Analytics Auditor                Saudi Arabia   \n",
      "17                        Master Data Specialist            Perth, Australia   \n",
      "18                         Data Analysis Advisor                       India   \n",
      "19                   Strategy and Market Analyst                Saudi Arabia   \n",
      "20                       Business System Analyst                Saudi Arabia   \n",
      "21       Market Research & Data analytic Advisor                       India   \n",
      "22  Materials Modeling & Data Science Specialist                Saudi Arabia   \n",
      "23                             Financial Analyst        United Arab Emirates   \n",
      "24                             Financial Analyst  Baton Rouge, United States   \n",
      "25                               Pricing Analyst             Calgary, Canada   \n",
      "26                 Business Intelligence Analyst            Perth, Australia   \n",
      "27                     Business System Analyst I                Saudi Arabia   \n",
      "28                   Lead Data Analytics Auditor                Saudi Arabia   \n",
      "29                        Master Data Specialist            Perth, Australia   \n",
      "30                         Data Analysis Advisor                       India   \n",
      "31                   Strategy and Market Analyst                Saudi Arabia   \n",
      "32                       Business System Analyst                Saudi Arabia   \n",
      "33       Market Research & Data analytic Advisor                       India   \n",
      "34  Materials Modeling & Data Science Specialist                Saudi Arabia   \n",
      "35                             Financial Analyst        United Arab Emirates   \n",
      "36                             Financial Analyst  Baton Rouge, United States   \n",
      "37                               Pricing Analyst             Calgary, Canada   \n",
      "38                 Business Intelligence Analyst            Perth, Australia   \n",
      "39                     Business System Analyst I                Saudi Arabia   \n",
      "40                   Lead Data Analytics Auditor                Saudi Arabia   \n",
      "41                        Master Data Specialist            Perth, Australia   \n",
      "42                         Data Analysis Advisor                       India   \n",
      "43                   Strategy and Market Analyst                Saudi Arabia   \n",
      "44                       Business System Analyst                Saudi Arabia   \n",
      "45       Market Research & Data analytic Advisor                       India   \n",
      "46  Materials Modeling & Data Science Specialist                Saudi Arabia   \n",
      "47                             Financial Analyst        United Arab Emirates   \n",
      "48                             Financial Analyst  Baton Rouge, United States   \n",
      "49                               Pricing Analyst             Calgary, Canada   \n",
      "50                 Business Intelligence Analyst            Perth, Australia   \n",
      "51                     Business System Analyst I                Saudi Arabia   \n",
      "52                   Lead Data Analytics Auditor                Saudi Arabia   \n",
      "53                        Master Data Specialist            Perth, Australia   \n",
      "54                         Data Analysis Advisor                       India   \n",
      "55                   Strategy and Market Analyst                Saudi Arabia   \n",
      "56                       Business System Analyst                Saudi Arabia   \n",
      "57       Market Research & Data analytic Advisor                       India   \n",
      "58  Materials Modeling & Data Science Specialist                Saudi Arabia   \n",
      "59                             Financial Analyst        United Arab Emirates   \n",
      "\n",
      "     Industry                      Expertise  Experience  \\\n",
      "0   Oil & Gas  Project Management & Services   2-4 Years   \n",
      "1   Oil & Gas  Project Management & Services   2-4 Years   \n",
      "2   High Tech              Embedded Software   4-6 Years   \n",
      "3   Oil & Gas  Project Management & Services   6-9 Years   \n",
      "4   Oil & Gas  Project Management & Services  > 10 Years   \n",
      "5   High Tech              Embedded Software   4-6 Years   \n",
      "6   Oil & Gas           Engineering & Design   4-6 Years   \n",
      "7   Oil & Gas  Project Management & Services   6-9 Years   \n",
      "8   Oil & Gas  Project Management & Services   6-9 Years   \n",
      "9   Oil & Gas           Engineering & Design  > 10 Years   \n",
      "10  Oil & Gas  Project Management & Services  > 10 Years   \n",
      "11  Oil & Gas  Project Management & Services   6-9 Years   \n",
      "12  Oil & Gas  Project Management & Services   2-4 Years   \n",
      "13  Oil & Gas  Project Management & Services   2-4 Years   \n",
      "14  High Tech              Embedded Software   4-6 Years   \n",
      "15  Oil & Gas  Project Management & Services   6-9 Years   \n",
      "16  Oil & Gas  Project Management & Services  > 10 Years   \n",
      "17  High Tech              Embedded Software   4-6 Years   \n",
      "18  Oil & Gas           Engineering & Design   4-6 Years   \n",
      "19  Oil & Gas  Project Management & Services   6-9 Years   \n",
      "20  Oil & Gas  Project Management & Services   6-9 Years   \n",
      "21  Oil & Gas           Engineering & Design  > 10 Years   \n",
      "22  Oil & Gas  Project Management & Services  > 10 Years   \n",
      "23  Oil & Gas  Project Management & Services   6-9 Years   \n",
      "24  Oil & Gas  Project Management & Services   2-4 Years   \n",
      "25  Oil & Gas  Project Management & Services   2-4 Years   \n",
      "26  High Tech              Embedded Software   4-6 Years   \n",
      "27  Oil & Gas  Project Management & Services   6-9 Years   \n",
      "28  Oil & Gas  Project Management & Services  > 10 Years   \n",
      "29  High Tech              Embedded Software   4-6 Years   \n",
      "30  Oil & Gas           Engineering & Design   4-6 Years   \n",
      "31  Oil & Gas  Project Management & Services   6-9 Years   \n",
      "32  Oil & Gas  Project Management & Services   6-9 Years   \n",
      "33  Oil & Gas           Engineering & Design  > 10 Years   \n",
      "34  Oil & Gas  Project Management & Services  > 10 Years   \n",
      "35  Oil & Gas  Project Management & Services   6-9 Years   \n",
      "36  Oil & Gas  Project Management & Services   2-4 Years   \n",
      "37  Oil & Gas  Project Management & Services   2-4 Years   \n",
      "38  High Tech              Embedded Software   4-6 Years   \n",
      "39  Oil & Gas  Project Management & Services   6-9 Years   \n",
      "40  Oil & Gas  Project Management & Services  > 10 Years   \n",
      "41  High Tech              Embedded Software   4-6 Years   \n",
      "42  Oil & Gas           Engineering & Design   4-6 Years   \n",
      "43  Oil & Gas  Project Management & Services   6-9 Years   \n",
      "44  Oil & Gas  Project Management & Services   6-9 Years   \n",
      "45  Oil & Gas           Engineering & Design  > 10 Years   \n",
      "46  Oil & Gas  Project Management & Services  > 10 Years   \n",
      "47  Oil & Gas  Project Management & Services   6-9 Years   \n",
      "48  Oil & Gas  Project Management & Services   2-4 Years   \n",
      "49  Oil & Gas  Project Management & Services   2-4 Years   \n",
      "50  High Tech              Embedded Software   4-6 Years   \n",
      "51  Oil & Gas  Project Management & Services   6-9 Years   \n",
      "52  Oil & Gas  Project Management & Services  > 10 Years   \n",
      "53  High Tech              Embedded Software   4-6 Years   \n",
      "54  Oil & Gas           Engineering & Design   4-6 Years   \n",
      "55  Oil & Gas  Project Management & Services   6-9 Years   \n",
      "56  Oil & Gas  Project Management & Services   6-9 Years   \n",
      "57  Oil & Gas           Engineering & Design  > 10 Years   \n",
      "58  Oil & Gas  Project Management & Services  > 10 Years   \n",
      "59  Oil & Gas  Project Management & Services   6-9 Years   \n",
      "\n",
      "                                          Description  \\\n",
      "0   Brunel Energy is working with a major oil and ...   \n",
      "1   IntroductionOur client in the oil and energy s...   \n",
      "2   Seeking a Business Intelligence Analyst Specia...   \n",
      "3                                                       \n",
      "4                                                       \n",
      "5   Seeking a Master Data Specialist to join a lea...   \n",
      "6   We’re hiring Data Analysis Advisor for one of ...   \n",
      "7                                                       \n",
      "8                                                       \n",
      "9   We’re hiring Market Research & Data analytic A...   \n",
      "10                                                      \n",
      "11                                                      \n",
      "12  Brunel Energy is working with a major oil and ...   \n",
      "13  IntroductionOur client in the oil and energy s...   \n",
      "14  Seeking a Business Intelligence Analyst Specia...   \n",
      "15                                                      \n",
      "16                                                      \n",
      "17  Seeking a Master Data Specialist to join a lea...   \n",
      "18  We’re hiring Data Analysis Advisor for one of ...   \n",
      "19                                                      \n",
      "20                                                      \n",
      "21  We’re hiring Market Research & Data analytic A...   \n",
      "22                                                      \n",
      "23                                                      \n",
      "24  Brunel Energy is working with a major oil and ...   \n",
      "25  IntroductionOur client in the oil and energy s...   \n",
      "26  Seeking a Business Intelligence Analyst Specia...   \n",
      "27                                                      \n",
      "28                                                      \n",
      "29  Seeking a Master Data Specialist to join a lea...   \n",
      "30  We’re hiring Data Analysis Advisor for one of ...   \n",
      "31                                                      \n",
      "32                                                      \n",
      "33  We’re hiring Market Research & Data analytic A...   \n",
      "34                                                      \n",
      "35                                                      \n",
      "36  Brunel Energy is working with a major oil and ...   \n",
      "37  IntroductionOur client in the oil and energy s...   \n",
      "38  Seeking a Business Intelligence Analyst Specia...   \n",
      "39                                                      \n",
      "40                                                      \n",
      "41  Seeking a Master Data Specialist to join a lea...   \n",
      "42  We’re hiring Data Analysis Advisor for one of ...   \n",
      "43                                                      \n",
      "44                                                      \n",
      "45  We’re hiring Market Research & Data analytic A...   \n",
      "46                                                      \n",
      "47                                                      \n",
      "48  Brunel Energy is working with a major oil and ...   \n",
      "49  IntroductionOur client in the oil and energy s...   \n",
      "50  Seeking a Business Intelligence Analyst Specia...   \n",
      "51                                                      \n",
      "52                                                      \n",
      "53  Seeking a Master Data Specialist to join a lea...   \n",
      "54  We’re hiring Data Analysis Advisor for one of ...   \n",
      "55                                                      \n",
      "56                                                      \n",
      "57  We’re hiring Market Research & Data analytic A...   \n",
      "58                                                      \n",
      "59                                                      \n",
      "\n",
      "                                           Apply_Link  \n",
      "0   https://www.brunel.net/en/jobs/financial-analy...  \n",
      "1   https://www.brunel.net/en/jobs/pricing-analyst...  \n",
      "2   https://www.brunel.net/en/jobs/business-intell...  \n",
      "3   https://www.brunel.net/en/jobs/business-system...  \n",
      "4   https://www.brunel.net/en/jobs/lead-data-analy...  \n",
      "5   https://www.brunel.net/en/jobs/master-data-spe...  \n",
      "6   https://www.brunel.net/en/jobs/data-analysis-a...  \n",
      "7   https://www.brunel.net/en/jobs/strategy-and-ma...  \n",
      "8   https://www.brunel.net/en/jobs/business-system...  \n",
      "9   https://www.brunel.net/en/jobs/market-research...  \n",
      "10  https://www.brunel.net/en/jobs/materials-model...  \n",
      "11  https://www.brunel.net/en/jobs/financial-analy...  \n",
      "12  https://www.brunel.net/en/jobs/financial-analy...  \n",
      "13  https://www.brunel.net/en/jobs/pricing-analyst...  \n",
      "14  https://www.brunel.net/en/jobs/business-intell...  \n",
      "15  https://www.brunel.net/en/jobs/business-system...  \n",
      "16  https://www.brunel.net/en/jobs/lead-data-analy...  \n",
      "17  https://www.brunel.net/en/jobs/master-data-spe...  \n",
      "18  https://www.brunel.net/en/jobs/data-analysis-a...  \n",
      "19  https://www.brunel.net/en/jobs/strategy-and-ma...  \n",
      "20  https://www.brunel.net/en/jobs/business-system...  \n",
      "21  https://www.brunel.net/en/jobs/market-research...  \n",
      "22  https://www.brunel.net/en/jobs/materials-model...  \n",
      "23  https://www.brunel.net/en/jobs/financial-analy...  \n",
      "24  https://www.brunel.net/en/jobs/financial-analy...  \n",
      "25  https://www.brunel.net/en/jobs/pricing-analyst...  \n",
      "26  https://www.brunel.net/en/jobs/business-intell...  \n",
      "27  https://www.brunel.net/en/jobs/business-system...  \n",
      "28  https://www.brunel.net/en/jobs/lead-data-analy...  \n",
      "29  https://www.brunel.net/en/jobs/master-data-spe...  \n",
      "30  https://www.brunel.net/en/jobs/data-analysis-a...  \n",
      "31  https://www.brunel.net/en/jobs/strategy-and-ma...  \n",
      "32  https://www.brunel.net/en/jobs/business-system...  \n",
      "33  https://www.brunel.net/en/jobs/market-research...  \n",
      "34  https://www.brunel.net/en/jobs/materials-model...  \n",
      "35  https://www.brunel.net/en/jobs/financial-analy...  \n",
      "36  https://www.brunel.net/en/jobs/financial-analy...  \n",
      "37  https://www.brunel.net/en/jobs/pricing-analyst...  \n",
      "38  https://www.brunel.net/en/jobs/business-intell...  \n",
      "39  https://www.brunel.net/en/jobs/business-system...  \n",
      "40  https://www.brunel.net/en/jobs/lead-data-analy...  \n",
      "41  https://www.brunel.net/en/jobs/master-data-spe...  \n",
      "42  https://www.brunel.net/en/jobs/data-analysis-a...  \n",
      "43  https://www.brunel.net/en/jobs/strategy-and-ma...  \n",
      "44  https://www.brunel.net/en/jobs/business-system...  \n",
      "45  https://www.brunel.net/en/jobs/market-research...  \n",
      "46  https://www.brunel.net/en/jobs/materials-model...  \n",
      "47  https://www.brunel.net/en/jobs/financial-analy...  \n",
      "48  https://www.brunel.net/en/jobs/financial-analy...  \n",
      "49  https://www.brunel.net/en/jobs/pricing-analyst...  \n",
      "50  https://www.brunel.net/en/jobs/business-intell...  \n",
      "51  https://www.brunel.net/en/jobs/business-system...  \n",
      "52  https://www.brunel.net/en/jobs/lead-data-analy...  \n",
      "53  https://www.brunel.net/en/jobs/master-data-spe...  \n",
      "54  https://www.brunel.net/en/jobs/data-analysis-a...  \n",
      "55  https://www.brunel.net/en/jobs/strategy-and-ma...  \n",
      "56  https://www.brunel.net/en/jobs/business-system...  \n",
      "57  https://www.brunel.net/en/jobs/market-research...  \n",
      "58  https://www.brunel.net/en/jobs/materials-model...  \n",
      "59  https://www.brunel.net/en/jobs/financial-analy...  \n"
     ]
    },
    {
     "ename": "PermissionError",
     "evalue": "[Errno 13] Permission denied: 'Job_details.csv'",
     "output_type": "error",
     "traceback": [
      "\u001b[1;31m---------------------------------------------------------------------------\u001b[0m",
      "\u001b[1;31mPermissionError\u001b[0m                           Traceback (most recent call last)",
      "\u001b[1;32m~\\AppData\\Local\\Temp/ipykernel_8916/2794098771.py\u001b[0m in \u001b[0;36m<module>\u001b[1;34m\u001b[0m\n\u001b[0;32m      1\u001b[0m \u001b[0mdf\u001b[0m \u001b[1;33m=\u001b[0m \u001b[0mpd\u001b[0m\u001b[1;33m.\u001b[0m\u001b[0mDataFrame\u001b[0m\u001b[1;33m(\u001b[0m\u001b[0mJob_list\u001b[0m\u001b[1;33m)\u001b[0m\u001b[1;33m\u001b[0m\u001b[1;33m\u001b[0m\u001b[0m\n\u001b[0;32m      2\u001b[0m \u001b[0mprint\u001b[0m\u001b[1;33m(\u001b[0m\u001b[0mdf\u001b[0m\u001b[1;33m)\u001b[0m\u001b[1;33m\u001b[0m\u001b[1;33m\u001b[0m\u001b[0m\n\u001b[1;32m----> 3\u001b[1;33m \u001b[0mdf\u001b[0m\u001b[1;33m.\u001b[0m\u001b[0mto_csv\u001b[0m\u001b[1;33m(\u001b[0m\u001b[1;34m\"Job_details.csv\"\u001b[0m\u001b[1;33m)\u001b[0m\u001b[1;33m\u001b[0m\u001b[1;33m\u001b[0m\u001b[0m\n\u001b[0m",
      "\u001b[1;32m~\\anaconda3\\lib\\site-packages\\pandas\\core\\generic.py\u001b[0m in \u001b[0;36mto_csv\u001b[1;34m(self, path_or_buf, sep, na_rep, float_format, columns, header, index, index_label, mode, encoding, compression, quoting, quotechar, line_terminator, chunksize, date_format, doublequote, escapechar, decimal, errors, storage_options)\u001b[0m\n\u001b[0;32m   3464\u001b[0m         )\n\u001b[0;32m   3465\u001b[0m \u001b[1;33m\u001b[0m\u001b[0m\n\u001b[1;32m-> 3466\u001b[1;33m         return DataFrameRenderer(formatter).to_csv(\n\u001b[0m\u001b[0;32m   3467\u001b[0m             \u001b[0mpath_or_buf\u001b[0m\u001b[1;33m,\u001b[0m\u001b[1;33m\u001b[0m\u001b[1;33m\u001b[0m\u001b[0m\n\u001b[0;32m   3468\u001b[0m             \u001b[0mline_terminator\u001b[0m\u001b[1;33m=\u001b[0m\u001b[0mline_terminator\u001b[0m\u001b[1;33m,\u001b[0m\u001b[1;33m\u001b[0m\u001b[1;33m\u001b[0m\u001b[0m\n",
      "\u001b[1;32m~\\anaconda3\\lib\\site-packages\\pandas\\io\\formats\\format.py\u001b[0m in \u001b[0;36mto_csv\u001b[1;34m(self, path_or_buf, encoding, sep, columns, index_label, mode, compression, quoting, quotechar, line_terminator, chunksize, date_format, doublequote, escapechar, errors, storage_options)\u001b[0m\n\u001b[0;32m   1103\u001b[0m             \u001b[0mformatter\u001b[0m\u001b[1;33m=\u001b[0m\u001b[0mself\u001b[0m\u001b[1;33m.\u001b[0m\u001b[0mfmt\u001b[0m\u001b[1;33m,\u001b[0m\u001b[1;33m\u001b[0m\u001b[1;33m\u001b[0m\u001b[0m\n\u001b[0;32m   1104\u001b[0m         )\n\u001b[1;32m-> 1105\u001b[1;33m         \u001b[0mcsv_formatter\u001b[0m\u001b[1;33m.\u001b[0m\u001b[0msave\u001b[0m\u001b[1;33m(\u001b[0m\u001b[1;33m)\u001b[0m\u001b[1;33m\u001b[0m\u001b[1;33m\u001b[0m\u001b[0m\n\u001b[0m\u001b[0;32m   1106\u001b[0m \u001b[1;33m\u001b[0m\u001b[0m\n\u001b[0;32m   1107\u001b[0m         \u001b[1;32mif\u001b[0m \u001b[0mcreated_buffer\u001b[0m\u001b[1;33m:\u001b[0m\u001b[1;33m\u001b[0m\u001b[1;33m\u001b[0m\u001b[0m\n",
      "\u001b[1;32m~\\anaconda3\\lib\\site-packages\\pandas\\io\\formats\\csvs.py\u001b[0m in \u001b[0;36msave\u001b[1;34m(self)\u001b[0m\n\u001b[0;32m    235\u001b[0m         \"\"\"\n\u001b[0;32m    236\u001b[0m         \u001b[1;31m# apply compression and byte/text conversion\u001b[0m\u001b[1;33m\u001b[0m\u001b[1;33m\u001b[0m\u001b[0m\n\u001b[1;32m--> 237\u001b[1;33m         with get_handle(\n\u001b[0m\u001b[0;32m    238\u001b[0m             \u001b[0mself\u001b[0m\u001b[1;33m.\u001b[0m\u001b[0mfilepath_or_buffer\u001b[0m\u001b[1;33m,\u001b[0m\u001b[1;33m\u001b[0m\u001b[1;33m\u001b[0m\u001b[0m\n\u001b[0;32m    239\u001b[0m             \u001b[0mself\u001b[0m\u001b[1;33m.\u001b[0m\u001b[0mmode\u001b[0m\u001b[1;33m,\u001b[0m\u001b[1;33m\u001b[0m\u001b[1;33m\u001b[0m\u001b[0m\n",
      "\u001b[1;32m~\\anaconda3\\lib\\site-packages\\pandas\\io\\common.py\u001b[0m in \u001b[0;36mget_handle\u001b[1;34m(path_or_buf, mode, encoding, compression, memory_map, is_text, errors, storage_options)\u001b[0m\n\u001b[0;32m    700\u001b[0m         \u001b[1;32mif\u001b[0m \u001b[0mioargs\u001b[0m\u001b[1;33m.\u001b[0m\u001b[0mencoding\u001b[0m \u001b[1;32mand\u001b[0m \u001b[1;34m\"b\"\u001b[0m \u001b[1;32mnot\u001b[0m \u001b[1;32min\u001b[0m \u001b[0mioargs\u001b[0m\u001b[1;33m.\u001b[0m\u001b[0mmode\u001b[0m\u001b[1;33m:\u001b[0m\u001b[1;33m\u001b[0m\u001b[1;33m\u001b[0m\u001b[0m\n\u001b[0;32m    701\u001b[0m             \u001b[1;31m# Encoding\u001b[0m\u001b[1;33m\u001b[0m\u001b[1;33m\u001b[0m\u001b[0m\n\u001b[1;32m--> 702\u001b[1;33m             handle = open(\n\u001b[0m\u001b[0;32m    703\u001b[0m                 \u001b[0mhandle\u001b[0m\u001b[1;33m,\u001b[0m\u001b[1;33m\u001b[0m\u001b[1;33m\u001b[0m\u001b[0m\n\u001b[0;32m    704\u001b[0m                 \u001b[0mioargs\u001b[0m\u001b[1;33m.\u001b[0m\u001b[0mmode\u001b[0m\u001b[1;33m,\u001b[0m\u001b[1;33m\u001b[0m\u001b[1;33m\u001b[0m\u001b[0m\n",
      "\u001b[1;31mPermissionError\u001b[0m: [Errno 13] Permission denied: 'Job_details.csv'"
     ]
    }
   ],
   "source": [
    "df = pd.DataFrame(Job_list) \n",
    "print(df)  \n",
    "df.to_csv(\"Job_details.csv\")"
   ]
  },
  {
   "cell_type": "code",
   "execution_count": 25,
   "id": "082c9093",
   "metadata": {},
   "outputs": [
    {
     "name": "stdout",
     "output_type": "stream",
     "text": [
      "53.80167078971863\n"
     ]
    }
   ],
   "source": [
    "end = time.time()\n",
    "\n",
    "print(end-start)"
   ]
  },
  {
   "cell_type": "code",
   "execution_count": null,
   "id": "eacbb020",
   "metadata": {},
   "outputs": [],
   "source": []
  },
  {
   "cell_type": "code",
   "execution_count": null,
   "id": "47684b9d",
   "metadata": {},
   "outputs": [],
   "source": []
  }
 ],
 "metadata": {
  "kernelspec": {
   "display_name": "Python 3 (ipykernel)",
   "language": "python",
   "name": "python3"
  },
  "language_info": {
   "codemirror_mode": {
    "name": "ipython",
    "version": 3
   },
   "file_extension": ".py",
   "mimetype": "text/x-python",
   "name": "python",
   "nbconvert_exporter": "python",
   "pygments_lexer": "ipython3",
   "version": "3.9.7"
  }
 },
 "nbformat": 4,
 "nbformat_minor": 5
}
