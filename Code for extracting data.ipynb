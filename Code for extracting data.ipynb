{
 "cells": [
  {
   "cell_type": "code",
   "execution_count": null,
   "id": "19e54c28",
   "metadata": {},
   "outputs": [],
   "source": [
    "import requests"
   ]
  },
  {
   "cell_type": "code",
   "execution_count": null,
   "id": "fe6b4837",
   "metadata": {},
   "outputs": [],
   "source": [
    "import pandas as pd"
   ]
  },
  {
   "cell_type": "code",
   "execution_count": null,
   "id": "d449da36",
   "metadata": {},
   "outputs": [],
   "source": [
    "data = []\n",
    "\n",
    "date_range = pd.date_range(start=\"2021-11-15\", end=\"2023-03-31\", freq=\"D\")\n",
    "for date in date_range:\n",
    "    date_str = date.strftime(\"%Y-%m-%d\")\n",
    "    \n",
    "    url = f\"https://vegetablemarketprice.com/api/data/market/noida/daywise?date={date_str}\"\n",
    "\n",
    "    response = requests.get(url)\n",
    "    \n",
    "    if response.status_code == 200:\n",
    "        vegetable_json = response.json()\n",
    "        \n",
    "        for item in vegetable_json[\"data\"]:\n",
    "            row = {\n",
    "                \"date\": date_str,\n",
    "                \"vegetableName\": item[\"vegetableName\"],\n",
    "                \"price\": item[\"price\"],\n",
    "                \"units\": item[\"units\"],\n",
    "                \"id\": item[\"id\"],\n",
    "                \"shopingMallPrice\": item[\"shopingMallPrice\"],\n",
    "                \"retailPrice\": item[\"retailPrice\"]\n",
    "            }\n",
    "            data.append(row)\n",
    "    \n",
    "df = pd.DataFrame(data)"
   ]
  },
  {
   "cell_type": "code",
   "execution_count": null,
   "id": "615935a2",
   "metadata": {},
   "outputs": [],
   "source": [
    "df"
   ]
  },
  {
   "cell_type": "code",
   "execution_count": null,
   "id": "79b572b2",
   "metadata": {},
   "outputs": [],
   "source": []
  }
 ],
 "metadata": {
  "kernelspec": {
   "display_name": "Python 3 (ipykernel)",
   "language": "python",
   "name": "python3"
  },
  "language_info": {
   "codemirror_mode": {
    "name": "ipython",
    "version": 3
   },
   "file_extension": ".py",
   "mimetype": "text/x-python",
   "name": "python",
   "nbconvert_exporter": "python",
   "pygments_lexer": "ipython3",
   "version": "3.9.13"
  }
 },
 "nbformat": 4,
 "nbformat_minor": 5
}
